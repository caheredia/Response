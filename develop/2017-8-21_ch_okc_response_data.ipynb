{
 "cells": [
  {
   "cell_type": "code",
   "execution_count": 267,
   "metadata": {
    "collapsed": true
   },
   "outputs": [],
   "source": [
    "import pandas as pd\n",
    "import pymc3 as pm\n",
    "import numpy as np\n",
    "import matplotlib\n",
    "import matplotlib.pyplot as plt\n",
    "%matplotlib inline"
   ]
  },
  {
   "cell_type": "markdown",
   "metadata": {},
   "source": [
    "## OKC data \n",
    "https://theblog.okcupid.com/race-and-attraction-2009-2014-107dcbb4f060\n",
    "https://www.thecut.com/2014/09/new-okcupid-data-on-race-is-pretty-depressing.html\n",
    "https://theblog.okcupid.com/how-your-race-affects-the-messages-you-get-39c68771b99e\n",
    "https://theblog.okcupid.com/race-and-attraction-2009-2014-107dcbb4f060"
   ]
  },
  {
   "cell_type": "markdown",
   "metadata": {},
   "source": [
    "The code below loads the Excel file and selects the data within the first sheet. "
   ]
  },
  {
   "cell_type": "code",
   "execution_count": 477,
   "metadata": {
    "collapsed": false
   },
   "outputs": [
    {
     "data": {
      "text/html": [
       "<div>\n",
       "<table border=\"1\" class=\"dataframe\">\n",
       "  <thead>\n",
       "    <tr style=\"text-align: right;\">\n",
       "      <th></th>\n",
       "      <th>Date</th>\n",
       "      <th>Contact</th>\n",
       "      <th>Length</th>\n",
       "      <th>Ethnicity</th>\n",
       "      <th>Response</th>\n",
       "      <th>Age</th>\n",
       "      <th>Meeting</th>\n",
       "      <th>Single</th>\n",
       "      <th>Match</th>\n",
       "    </tr>\n",
       "  </thead>\n",
       "  <tbody>\n",
       "    <tr>\n",
       "      <th>0</th>\n",
       "      <td>2015-05-01</td>\n",
       "      <td>NaN</td>\n",
       "      <td>15</td>\n",
       "      <td>W</td>\n",
       "      <td>1.0</td>\n",
       "      <td>38.0</td>\n",
       "      <td>1.0</td>\n",
       "      <td>NaN</td>\n",
       "      <td>NaN</td>\n",
       "    </tr>\n",
       "    <tr>\n",
       "      <th>1</th>\n",
       "      <td>2015-05-07</td>\n",
       "      <td>NaN</td>\n",
       "      <td>10</td>\n",
       "      <td>U</td>\n",
       "      <td>NaN</td>\n",
       "      <td>NaN</td>\n",
       "      <td>NaN</td>\n",
       "      <td>NaN</td>\n",
       "      <td>NaN</td>\n",
       "    </tr>\n",
       "    <tr>\n",
       "      <th>2</th>\n",
       "      <td>2015-05-15</td>\n",
       "      <td>NaN</td>\n",
       "      <td>11</td>\n",
       "      <td>W</td>\n",
       "      <td>NaN</td>\n",
       "      <td>30.0</td>\n",
       "      <td>NaN</td>\n",
       "      <td>1.0</td>\n",
       "      <td>87.0</td>\n",
       "    </tr>\n",
       "    <tr>\n",
       "      <th>3</th>\n",
       "      <td>2015-05-18</td>\n",
       "      <td>NaN</td>\n",
       "      <td>20</td>\n",
       "      <td>A</td>\n",
       "      <td>NaN</td>\n",
       "      <td>25.0</td>\n",
       "      <td>NaN</td>\n",
       "      <td>1.0</td>\n",
       "      <td>87.0</td>\n",
       "    </tr>\n",
       "    <tr>\n",
       "      <th>4</th>\n",
       "      <td>2015-05-18</td>\n",
       "      <td>NaN</td>\n",
       "      <td>9</td>\n",
       "      <td>U</td>\n",
       "      <td>NaN</td>\n",
       "      <td>NaN</td>\n",
       "      <td>NaN</td>\n",
       "      <td>NaN</td>\n",
       "      <td>NaN</td>\n",
       "    </tr>\n",
       "  </tbody>\n",
       "</table>\n",
       "</div>"
      ],
      "text/plain": [
       "        Date  Contact  Length Ethnicity  Response   Age  Meeting  Single  \\\n",
       "0 2015-05-01      NaN      15         W       1.0  38.0      1.0     NaN   \n",
       "1 2015-05-07      NaN      10         U       NaN   NaN      NaN     NaN   \n",
       "2 2015-05-15      NaN      11         W       NaN  30.0      NaN     1.0   \n",
       "3 2015-05-18      NaN      20         A       NaN  25.0      NaN     1.0   \n",
       "4 2015-05-18      NaN       9         U       NaN   NaN      NaN     NaN   \n",
       "\n",
       "   Match  \n",
       "0    NaN  \n",
       "1    NaN  \n",
       "2   87.0  \n",
       "3   87.0  \n",
       "4    NaN  "
      ]
     },
     "execution_count": 477,
     "metadata": {},
     "output_type": "execute_result"
    }
   ],
   "source": [
    "x1 = pd.ExcelFile('../data/response_data.xlsx')  \n",
    "x1.sheet_names\n",
    "df = x1.parse(\"Sheet1\", header = 17, usecols = [0,1,2,3,4,5,6,7,8])\n",
    "df.head()"
   ]
  },
  {
   "cell_type": "code",
   "execution_count": 478,
   "metadata": {
    "collapsed": false
   },
   "outputs": [],
   "source": [
    "#Change W to White, U to Unkown, L to Latina, A to Asian, B to Black\n",
    "df.Ethnicity.replace( 'U', 'Unknown', inplace = True)\n",
    "df.Ethnicity.fillna( 'Unknown' , inplace = True)\n",
    "df.Ethnicity.replace( 'W', 'White', inplace = True)\n",
    "df.Ethnicity.replace( 'L', 'Latina', inplace = True)\n",
    "df.Ethnicity.replace( 'A', 'Asian', inplace = True)\n",
    "df.Ethnicity.replace( 'B', 'Black', inplace = True)"
   ]
  },
  {
   "cell_type": "markdown",
   "metadata": {},
   "source": [
    "Define a function for returning percentages"
   ]
  },
  {
   "cell_type": "code",
   "execution_count": 479,
   "metadata": {
    "collapsed": false
   },
   "outputs": [],
   "source": [
    "def perc(x, y):\n",
    "    z = x / y \n",
    "    return \"{:.1%}\".format(z)"
   ]
  },
  {
   "cell_type": "markdown",
   "metadata": {},
   "source": [
    "## Response rate for all contacted "
   ]
  },
  {
   "cell_type": "code",
   "execution_count": 480,
   "metadata": {
    "collapsed": false
   },
   "outputs": [
    {
     "data": {
      "text/plain": [
       "'22.6%'"
      ]
     },
     "execution_count": 480,
     "metadata": {},
     "output_type": "execute_result"
    }
   ],
   "source": [
    "perc(df.Response.sum(), len(df.loc[ df.Contact != 1  , 'Contact']))  #substracts rows where I was contacted first "
   ]
  },
  {
   "cell_type": "markdown",
   "metadata": {},
   "source": [
    "## Percentage of in person meetings "
   ]
  },
  {
   "cell_type": "code",
   "execution_count": 481,
   "metadata": {
    "collapsed": false
   },
   "outputs": [
    {
     "data": {
      "text/plain": [
       "'1.5%'"
      ]
     },
     "execution_count": 481,
     "metadata": {},
     "output_type": "execute_result"
    }
   ],
   "source": [
    "perc(df.Meeting.sum(),  len(df)) "
   ]
  },
  {
   "cell_type": "markdown",
   "metadata": {},
   "source": [
    "## Average age differential of people contacted "
   ]
  },
  {
   "cell_type": "code",
   "execution_count": 513,
   "metadata": {
    "collapsed": false
   },
   "outputs": [
    {
     "data": {
      "text/plain": [
       "4"
      ]
     },
     "execution_count": 513,
     "metadata": {},
     "output_type": "execute_result"
    }
   ],
   "source": [
    " int ( 37 - df.loc[(df.Contact != 1)  , 'Age'].mean() )  #subtracts age from avg"
   ]
  },
  {
   "cell_type": "markdown",
   "metadata": {},
   "source": [
    "## Response % from Whites"
   ]
  },
  {
   "cell_type": "code",
   "execution_count": 484,
   "metadata": {
    "collapsed": false
   },
   "outputs": [
    {
     "data": {
      "text/plain": [
       "'20.4%'"
      ]
     },
     "execution_count": 484,
     "metadata": {},
     "output_type": "execute_result"
    }
   ],
   "source": [
    "contacted = len(df.loc[ (df.Contact != 1) & (df.Ethnicity == 'White') , 'Ethnicity'])\n",
    "replied = len(df.loc[ (df.Contact != 1) & (df.Ethnicity == 'White') & (df.Response == 1), 'Ethnicity'])\n",
    "perc( replied, contacted)"
   ]
  },
  {
   "cell_type": "code",
   "execution_count": 517,
   "metadata": {
    "collapsed": false
   },
   "outputs": [],
   "source": [
    "#Build a function to calculate rate above \n",
    "def reply_rate(str): \n",
    "    contacted = len(df.loc[ (df.Contact != 1) & (df.Ethnicity == str) , 'Ethnicity'])\n",
    "    replied  = len(df.loc[ (df.Contact != 1) & (df.Ethnicity == str) & (df.Response == 1), 'Ethnicity'])\n",
    "    return '{} = {}'.format(str,  perc(replied, contacted))"
   ]
  },
  {
   "cell_type": "markdown",
   "metadata": {},
   "source": [
    "## Response % by group"
   ]
  },
  {
   "cell_type": "code",
   "execution_count": 518,
   "metadata": {
    "collapsed": false
   },
   "outputs": [
    {
     "data": {
      "text/plain": [
       "('White = 20.4%',\n",
       " 'Latina = 19.2%',\n",
       " 'Asian = 42.9%',\n",
       " 'Black = 50.0%',\n",
       " 'Unknown = 15.7%')"
      ]
     },
     "execution_count": 518,
     "metadata": {},
     "output_type": "execute_result"
    }
   ],
   "source": [
    "reply_rate('White'), reply_rate('Latina'), reply_rate('Asian'), reply_rate('Black'), reply_rate('Unknown')"
   ]
  },
  {
   "cell_type": "markdown",
   "metadata": {},
   "source": [
    "## Response rate by group\n",
    "I included the unkown data because in some of the messages I was able to determine (either by user ID or chat context) group identification."
   ]
  },
  {
   "cell_type": "markdown",
   "metadata": {},
   "source": [
    "## Rate of groups contacted (White, Latina, Asian, Black)\n",
    "Count the number of instances for a group, where I initiated contact, and divide by dataframe length. For this comparison it makes sense not to include the Unknown group because it overwhelms the rates. It could be that the unknown values contain a skewed preference towards one group; however, there is no way to know that. "
   ]
  },
  {
   "cell_type": "code",
   "execution_count": 487,
   "metadata": {
    "collapsed": false
   },
   "outputs": [
    {
     "data": {
      "text/plain": [
       "Unknown    110\n",
       "White       51\n",
       "Latina      26\n",
       "Asian       14\n",
       "Black        4\n",
       "Name: Ethnicity, dtype: int64"
      ]
     },
     "execution_count": 487,
     "metadata": {},
     "output_type": "execute_result"
    }
   ],
   "source": [
    "df['Ethnicity'].value_counts()"
   ]
  },
  {
   "cell_type": "code",
   "execution_count": 489,
   "metadata": {
    "collapsed": false
   },
   "outputs": [
    {
     "data": {
      "text/plain": [
       "('White = 53.7%', 'Latina = 27.4%', 'Asian = 14.7%', 'Black = 4.2%')"
      ]
     },
     "execution_count": 489,
     "metadata": {},
     "output_type": "execute_result"
    }
   ],
   "source": [
    "def group_rate(str):\n",
    "    no_unknown = len(df) - len(df.loc[ df.Ethnicity == 'Unknown' , 'Ethnicity']) #subtracts unknown values from df length \n",
    "    group_count = len(df.loc[ df.Ethnicity == str, 'Ethnicity'])  \n",
    "    return \"{} = {}\".format(str, perc(group_count,no_unknown))   #calls on former perc() function \n",
    "\n",
    "group_rate('White'), group_rate('Latina'), group_rate('Asian'), group_rate('Black')"
   ]
  },
  {
   "cell_type": "markdown",
   "metadata": {},
   "source": [
    "How does this compare to OKC's overall demographic makeup? Did I favor one group over the other, or is this typical of random sampling? \n",
    "\n",
    "According to Quantcast (2009) OKC demographics: <br> White =  91%, Hispanic = 3%,  Asian = 3%, Black = 2%  \n",
    "\n",
    "We could compare these numbers to the California and US census values. There is no reason to believe OKC demographics scaled accordingly over time, but it gives us something to compare. \n",
    "\n",
    "\n",
    "If we look at 2010 Census data for California: <br> White = 40.1%, Hispanic = 37.6%, Asian = 13%, Black = 6.2%. \n",
    "\n",
    "For the US: <br> White = 63.7%, Latino = 16.3%, Asian = 4.7%, Black = 12.2%\n",
    "\n",
    "https://www.census.gov/census2000/pdf/ca_tab_1.PDF <br>\n",
    "http://www.census.gov/prod/cen2010/briefs/c2010br-02.pdf\n"
   ]
  },
  {
   "cell_type": "markdown",
   "metadata": {},
   "source": [
    "## Percent Bias against OKC data"
   ]
  },
  {
   "cell_type": "code",
   "execution_count": 490,
   "metadata": {
    "collapsed": false
   },
   "outputs": [
    {
     "data": {
      "text/plain": [
       "{'Group': ['White', 'Latina', 'Asian', 'Black'],\n",
       " 'Rel Bias %': ['-41', '813', '390', '110']}"
      ]
     },
     "execution_count": 490,
     "metadata": {},
     "output_type": "execute_result"
    }
   ],
   "source": [
    "groups = ['White', 'Latina', 'Asian', 'Black']\n",
    "my_rates = [53.7, 27.4, 14.7,4.2]\n",
    "okc_data = [91,3,3,2] \n",
    "cal_data = [40.1,37.6,13,6.2] \n",
    "us_data = [63.7,16.3,4.7,12.2]\n",
    "\n",
    "def pbias(x,y,z):    #inputs are group, my data, reference data\n",
    "    dif = [ '%.0f' % ( (i - j)/j*100 )  for i, j in zip(y, z)] #finds the difference between previous lists \n",
    "    bias = { 'Group' : x, 'Rel Bias %': dif }\n",
    "    return bias\n",
    "\n",
    "pbias(groups, my_rates, okc_data)"
   ]
  },
  {
   "cell_type": "markdown",
   "metadata": {},
   "source": [
    "If the 2009 OKC demographics scaled to 2017, then I would have a negative bias against White, and a positive bias towards every other group. The largest bias would be towards Latinas. "
   ]
  },
  {
   "cell_type": "markdown",
   "metadata": {},
   "source": [
    "## Percent Bias against California demographics"
   ]
  },
  {
   "cell_type": "code",
   "execution_count": 492,
   "metadata": {
    "collapsed": false
   },
   "outputs": [
    {
     "data": {
      "text/plain": [
       "{'Group': ['White', 'Latina', 'Asian', 'Black'],\n",
       " 'Rel Bias %': ['34', '-27', '13', '-32']}"
      ]
     },
     "execution_count": 492,
     "metadata": {},
     "output_type": "execute_result"
    }
   ],
   "source": [
    "pbias(groups, my_rates, cal_data)"
   ]
  },
  {
   "cell_type": "markdown",
   "metadata": {},
   "source": [
    "If California demographics were representative of OKC California demographics, then I would have a slightly negative bias towards Latinas and Blacks, with slight bias towards Whites and Asians. "
   ]
  },
  {
   "cell_type": "markdown",
   "metadata": {},
   "source": [
    "## Percent Bias against US demographics"
   ]
  },
  {
   "cell_type": "code",
   "execution_count": 493,
   "metadata": {
    "collapsed": false
   },
   "outputs": [
    {
     "data": {
      "text/plain": [
       "{'Group': ['White', 'Latina', 'Asian', 'Black'],\n",
       " 'Rel Bias %': ['-16', '68', '213', '-66']}"
      ]
     },
     "execution_count": 493,
     "metadata": {},
     "output_type": "execute_result"
    }
   ],
   "source": [
    "pbias(groups, my_rates, us_data)"
   ]
  },
  {
   "cell_type": "markdown",
   "metadata": {},
   "source": [
    "## Percentage of messages where they initiated first contact "
   ]
  },
  {
   "cell_type": "code",
   "execution_count": 494,
   "metadata": {
    "collapsed": false
   },
   "outputs": [
    {
     "data": {
      "text/plain": [
       "'2.9%'"
      ]
     },
     "execution_count": 494,
     "metadata": {},
     "output_type": "execute_result"
    }
   ],
   "source": [
    "perc( df.Contact.sum(), len(df) )"
   ]
  },
  {
   "cell_type": "markdown",
   "metadata": {},
   "source": [
    "## Percentage of Whites initiating first contact"
   ]
  },
  {
   "cell_type": "code",
   "execution_count": 495,
   "metadata": {
    "collapsed": false
   },
   "outputs": [
    {
     "data": {
      "text/plain": [
       "'33.3%'"
      ]
     },
     "execution_count": 495,
     "metadata": {},
     "output_type": "execute_result"
    }
   ],
   "source": [
    "perc( df.loc[(df.Contact == 1) & (df.Ethnicity == 'White') , 'Contact'].sum(), df.Contact.sum() )"
   ]
  },
  {
   "cell_type": "code",
   "execution_count": 504,
   "metadata": {
    "collapsed": false
   },
   "outputs": [],
   "source": [
    "def first(str):\n",
    "    messages = df.loc[(df.Contact == 1) & (df.Ethnicity == str) , 'Contact'].sum()\n",
    "    return '{} = {}'.format( str, perc( messages, df.Contact.sum() ) ) "
   ]
  },
  {
   "cell_type": "markdown",
   "metadata": {},
   "source": [
    "## Percentage of messages where they initiated first contact "
   ]
  },
  {
   "cell_type": "code",
   "execution_count": 506,
   "metadata": {
    "collapsed": false
   },
   "outputs": [
    {
     "data": {
      "text/plain": [
       "('White = 33.3%',\n",
       " 'Latina = 0.0%',\n",
       " 'Asian = 0.0%',\n",
       " 'Black = 33.3%',\n",
       " 'Unknown = 33.3%')"
      ]
     },
     "execution_count": 506,
     "metadata": {},
     "output_type": "execute_result"
    }
   ],
   "source": [
    "first(\"White\"), first(\"Latina\"), first(\"Asian\"), first(\"Black\"), first('Unknown')"
   ]
  },
  {
   "cell_type": "markdown",
   "metadata": {},
   "source": [
    "## My response rate upon being messaged first "
   ]
  },
  {
   "cell_type": "code",
   "execution_count": 509,
   "metadata": {
    "collapsed": false
   },
   "outputs": [
    {
     "data": {
      "text/plain": [
       "'100.0%'"
      ]
     },
     "execution_count": 509,
     "metadata": {},
     "output_type": "execute_result"
    }
   ],
   "source": [
    "perc( df.loc[df.Contact == 1, 'Response'].sum(), df.Contact.sum() )"
   ]
  },
  {
   "cell_type": "markdown",
   "metadata": {},
   "source": [
    "I replied to everyone that messaged me."
   ]
  },
  {
   "cell_type": "markdown",
   "metadata": {
    "collapsed": false
   },
   "source": [
    "## Histogram of Match % messaged "
   ]
  },
  {
   "cell_type": "code",
   "execution_count": 511,
   "metadata": {
    "collapsed": false
   },
   "outputs": [
    {
     "data": {
      "text/plain": [
       "'Match % average of 77 with a median of 80'"
      ]
     },
     "execution_count": 511,
     "metadata": {},
     "output_type": "execute_result"
    },
    {
     "data": {
      "image/png": "[encoded data removed]",
      "text/plain": [
       "<matplotlib.figure.Figure at 0x11ccfed30>"
      ]
     },
     "metadata": {},
     "output_type": "display_data"
    }
   ],
   "source": [
    "df.Match.plot.hist(alpha = .5, color = 'orange', bins=20);\n",
    "match_mean = \"%.0f\" % df.Match.mean()\n",
    "match_median = \"%.0f\" % df.Match.median()\n",
    "'Match % average of {} with a median of {}'.format(match_mean, match_median)"
   ]
  },
  {
   "cell_type": "markdown",
   "metadata": {},
   "source": [
    "## Histogram of Match % messaged and responded\n",
    "This data does not include people who initiated contact. The graph below demonstrates that no one messaged above the 90% Match rating responded. *Not all of the data had Match %, thus the frequencies are small."
   ]
  },
  {
   "cell_type": "code",
   "execution_count": 512,
   "metadata": {
    "collapsed": false
   },
   "outputs": [
    {
     "data": {
      "image/png": "[encoded data removed]",
      "text/plain": [
       "<matplotlib.figure.Figure at 0x11d0db4e0>"
      ]
     },
     "metadata": {},
     "output_type": "display_data"
    }
   ],
   "source": [
    "dfm =  df.loc[(df.Response == 1) & (df.Contact != 1), 'Match']\n",
    "dfm.plot.hist(bins = 10, alpha = .5, color = 'orange');\n",
    "#Need to find this rates too"
   ]
  },
  {
   "cell_type": "code",
   "execution_count": 469,
   "metadata": {
    "collapsed": false
   },
   "outputs": [
    {
     "data": {
      "text/plain": [
       "'Length of average message is 16 words, with a median of 13 words'"
      ]
     },
     "execution_count": 469,
     "metadata": {},
     "output_type": "execute_result"
    },
    {
     "data": {
      "image/png": "[encoded data removed]",
      "text/plain": [
       "<matplotlib.figure.Figure at 0x11cc14358>"
      ]
     },
     "metadata": {},
     "output_type": "display_data"
    }
   ],
   "source": [
    "df.Length.plot.hist(bins=20, alpha = .5, color = 'orange');\n",
    "length_mean = \"%.0f\" % df.Length.mean()\n",
    "length_median = \"%.0f\" % df.Length.median()\n",
    "'Length of average message is {} words, with a median of {} words'.format(length_mean, length_median)"
   ]
  },
  {
   "cell_type": "code",
   "execution_count": 474,
   "metadata": {
    "collapsed": false
   },
   "outputs": [
    {
     "data": {
      "text/plain": [
       "'Length of average message that received a response is 15 words, with a median of 13 words'"
      ]
     },
     "execution_count": 474,
     "metadata": {},
     "output_type": "execute_result"
    },
    {
     "data": {
      "image/png": "[encoded data removed]",
      "text/plain": [
       "<matplotlib.figure.Figure at 0x11c4940f0>"
      ]
     },
     "metadata": {},
     "output_type": "display_data"
    }
   ],
   "source": [
    "dfl =  df.loc[(df.Response == 1) & (df.Contact != 1), 'Length']\n",
    "dfl.plot.hist(bins = 30, alpha = .5, color = 'orange');\n",
    "len_mean = \"%.0f\" % dfl.mean()\n",
    "len_median = \"%.0f\" % dfl.median()\n",
    "'Length of average message that received a response is {} words, with a median of {} words'.format(len_mean, len_median)"
   ]
  },
  {
   "cell_type": "code",
   "execution_count": 475,
   "metadata": {
    "collapsed": false
   },
   "outputs": [
    {
     "data": {
      "image/png": "[encoded data removed]",
      "text/plain": [
       "<matplotlib.figure.Figure at 0x11ce1c9e8>"
      ]
     },
     "metadata": {},
     "output_type": "display_data"
    }
   ],
   "source": [
    "df.plot( x='Date', y='Length', style = 'ro'); #displays messages and length of messages over time"
   ]
  },
  {
   "cell_type": "code",
   "execution_count": 476,
   "metadata": {
    "collapsed": false
   },
   "outputs": [
    {
     "data": {
      "image/png": "[encoded data removed]",
      "text/plain": [
       "<matplotlib.figure.Figure at 0x119c337f0>"
      ]
     },
     "metadata": {},
     "output_type": "display_data"
    }
   ],
   "source": [
    "df.Match.plot.hist(alpha = .5, color = 'orange', bins=20);"
   ]
  },
  {
   "cell_type": "markdown",
   "metadata": {},
   "source": [
    "## Conclusion \n",
    "Use Jim Rohn quote on investing inself. That would be a much better use of time. "
   ]
  },
  {
   "cell_type": "markdown",
   "metadata": {},
   "source": [
    "How many words does the average person type per minute: 40 \n",
    "For one date 100*messages* 16 words/message * minute/40 words 1h/60min + 100*(2+1)min* 1h/60min + Find/Read/Write\n",
    "2 min to find, 2 min read and decide to message, 1 min to look at pics, 2 min to come up with a message to write \n",
    "\n",
    "okcupid suggests for 20% 6 messages / hour"
   ]
  },
  {
   "cell_type": "code",
   "execution_count": 266,
   "metadata": {
    "collapsed": false
   },
   "outputs": [
    {
     "data": {
      "text/plain": [
       "16.666666666666668"
      ]
     },
     "execution_count": 266,
     "metadata": {},
     "output_type": "execute_result"
    }
   ],
   "source": [
    "100*1/6"
   ]
  },
  {
   "cell_type": "markdown",
   "metadata": {
    "collapsed": true
   },
   "source": [
    "https://theblog.okcupid.com/online-dating-advice-optimum-message-length-8a2887c3d6ca\n",
    "\n",
    "https://medium.com/@sm_app_intel/conquer-love-with-these-crucial-dating-app-statistics-2870ec5493cd\n",
    "\n",
    "http://time.com/3302251/9-ugly-truths-big-data-ok-cupid-book/"
   ]
  },
  {
   "cell_type": "markdown",
   "metadata": {},
   "source": [
    "http://www.giveyourhandabreak.com/ethnicity/\n"
   ]
  },
  {
   "cell_type": "code",
   "execution_count": null,
   "metadata": {
    "collapsed": true
   },
   "outputs": [],
   "source": []
  }
 ],
 "metadata": {
  "kernelspec": {
   "display_name": "Python 3",
   "language": "python",
   "name": "python3"
  },
  "language_info": {
   "codemirror_mode": {
    "name": "ipython",
    "version": 3
   },
   "file_extension": ".py",
   "mimetype": "text/x-python",
   "name": "python",
   "nbconvert_exporter": "python",
   "pygments_lexer": "ipython3",
   "version": "3.6.0"
  }
 },
 "nbformat": 4,
 "nbformat_minor": 2
}
